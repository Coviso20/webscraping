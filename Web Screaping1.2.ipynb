{
 "cells": [
  {
   "cell_type": "code",
   "execution_count": 1,
   "metadata": {},
   "outputs": [],
   "source": [
    "import time\n",
    "\n",
    "import requests\n",
    "\n",
    "import pandas as pd\n",
    "\n",
    "from bs4 import BeautifulSoup\n",
    "\n",
    "from selenium import webdriver\n",
    "\n",
    "from selenium.webdriver.chrome.options import Options\n",
    "\n",
    "import json"
   ]
  },
  {
   "cell_type": "code",
   "execution_count": 2,
   "metadata": {},
   "outputs": [],
   "source": [
    "url = \"https://m.sebrae.com.br/sites/PortalSebrae/sebraeaz/acompanhe-as-noticias-sobre-o-impacto-do-covid-19-no-meio-empresarial,5bd350628e631710VgnVCM1000004c00210aRCRD\"\n",
    "    \n",
    "option = Options()\n",
    "option.headless = True\n",
    "driver = webdriver.Chrome(options=option)\n",
    "\n",
    "driver.get(url)\n",
    "/\n",
    "element = driver.find_element_by_xpath(\"//div[@class='ctd-artigo__main__content__text']//section[@class='first  last ']//h4\")\n",
    "\n",
    "html_content = element.text.strip() \n",
    "##a sentença acima extrai o html do texto, deixando somente o texto\n",
    "\n",
    "x = (html_content)"
   ]
  },
  {
   "cell_type": "code",
   "execution_count": null,
   "metadata": {},
   "outputs": [
    {
     "name": "stdout",
     "output_type": "stream",
     "text": [
      "Veja o que foi destaque no dia 7 de abril\n"
     ]
    }
   ],
   "source": [
    "i = 0                \n",
    "while(i <= 10):           \n",
    "    if i<=10:\n",
    "        print(x)       \n",
    "        i+=1\n",
    "        time.sleep(86400)\n",
    "    if i >= 10:\n",
    "        i=0"
   ]
  },
  {
   "cell_type": "code",
   "execution_count": null,
   "metadata": {},
   "outputs": [],
   "source": []
  }
 ],
 "metadata": {
  "kernelspec": {
   "display_name": "Python 3",
   "language": "python",
   "name": "python3"
  },
  "language_info": {
   "codemirror_mode": {
    "name": "ipython",
    "version": 3
   },
   "file_extension": ".py",
   "mimetype": "text/x-python",
   "name": "python",
   "nbconvert_exporter": "python",
   "pygments_lexer": "ipython3",
   "version": "3.7.6"
  }
 },
 "nbformat": 4,
 "nbformat_minor": 4
}
